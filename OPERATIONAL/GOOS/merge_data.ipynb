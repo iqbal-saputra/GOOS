{
 "cells": [
  {
   "cell_type": "code",
   "execution_count": 1,
   "metadata": {},
   "outputs": [],
   "source": [
    "import pandas as pd\n",
    "import numpy as np"
   ]
  },
  {
   "cell_type": "code",
   "execution_count": 2,
   "metadata": {},
   "outputs": [],
   "source": [
    "rekap_shopee = pd.read_excel('./Shopee/shopee_rekap_1-9mei.xlsx')\n",
    "rekap_tiktok = pd.read_excel('./Tiktok/tiktok_rekap_1-9mei.xlsx')\n",
    "df_shopee = pd.read_excel('./Shopee/shopee_cleaned_1-9mei.xlsx')\n",
    "df_tiktok = pd.read_excel('./Tiktok/tiktok_cleaned_1-9mei.xlsx')"
   ]
  },
  {
   "cell_type": "code",
   "execution_count": 3,
   "metadata": {},
   "outputs": [],
   "source": [
    "merge_rekap = pd.concat([rekap_shopee, rekap_tiktok], ignore_index=True)\n",
    "\n",
    "merge_rekap['Tanggal Order'] = pd.to_datetime(merge_rekap['Tanggal Order'])\n",
    "merge_rekap = merge_rekap.sort_values(by='Tanggal Order', ascending=True)\n",
    "merge_rekap['Tanggal Order'] = merge_rekap['Tanggal Order'].dt.date"
   ]
  },
  {
   "cell_type": "code",
   "execution_count": 4,
   "metadata": {},
   "outputs": [],
   "source": [
    "merge_cleaned_data = pd.concat([df_shopee, df_tiktok], ignore_index=True)\n",
    "\n",
    "merge_cleaned_data['Tanggal Order'] = pd.to_datetime(merge_cleaned_data['Tanggal Order'])\n",
    "merge_cleaned_data = merge_cleaned_data.sort_values(by='Tanggal Order', ascending=True)\n",
    "merge_cleaned_data['Tanggal Order'] = merge_cleaned_data['Tanggal Order'].dt.date"
   ]
  },
  {
   "cell_type": "code",
   "execution_count": 5,
   "metadata": {},
   "outputs": [],
   "source": [
    "merge_rekap.to_excel('merge_rekap_1-9mei.xlsx', index=False)\n",
    "merge_cleaned_data.to_excel('merge_cleaned_data_1-9mei.xlsx', index=False)"
   ]
  }
 ],
 "metadata": {
  "kernelspec": {
   "display_name": "py310",
   "language": "python",
   "name": "python3"
  },
  "language_info": {
   "codemirror_mode": {
    "name": "ipython",
    "version": 3
   },
   "file_extension": ".py",
   "mimetype": "text/x-python",
   "name": "python",
   "nbconvert_exporter": "python",
   "pygments_lexer": "ipython3",
   "version": "3.10.16"
  }
 },
 "nbformat": 4,
 "nbformat_minor": 2
}
