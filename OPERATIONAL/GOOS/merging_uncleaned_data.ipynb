{
 "cells": [
  {
   "cell_type": "code",
   "execution_count": 2,
   "id": "185fc4e1",
   "metadata": {},
   "outputs": [],
   "source": [
    "import numpy as np\n",
    "import pandas as pd\n",
    "import matplotlib.pyplot as plt\n",
    "import seaborn as sns\n",
    "import re"
   ]
  },
  {
   "cell_type": "code",
   "execution_count": 4,
   "id": "4486b8eb",
   "metadata": {},
   "outputs": [],
   "source": [
    "df1 = pd.read_excel('Shopee/20241220_20250119.xlsx')\n",
    "df2 = pd.read_excel('Shopee/20250120_20250219.xlsx')\n",
    "df3 = pd.read_excel('Shopee/20250220_20250322.xlsx')\n",
    "df4 = pd.read_excel('Shopee/20250323_20250415.xlsx')\n",
    "\n",
    "merge_df = pd.concat([df1, df2, df3, df4], ignore_index=True)\n",
    "\n",
    "merge_df.to_excel('data_shopee_q1.xlsx', index=False)"
   ]
  }
 ],
 "metadata": {
  "kernelspec": {
   "display_name": "py310",
   "language": "python",
   "name": "python3"
  },
  "language_info": {
   "codemirror_mode": {
    "name": "ipython",
    "version": 3
   },
   "file_extension": ".py",
   "mimetype": "text/x-python",
   "name": "python",
   "nbconvert_exporter": "python",
   "pygments_lexer": "ipython3",
   "version": "3.10.16"
  }
 },
 "nbformat": 4,
 "nbformat_minor": 5
}
