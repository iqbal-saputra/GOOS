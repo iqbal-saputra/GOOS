{
 "cells": [
  {
   "cell_type": "code",
   "execution_count": 1,
   "metadata": {},
   "outputs": [],
   "source": [
    "import numpy as np\n",
    "import pandas as pd\n",
    "import matplotlib.pyplot as plt\n",
    "import seaborn as sns\n",
    "import re"
   ]
  },
  {
   "cell_type": "code",
   "execution_count": 2,
   "metadata": {},
   "outputs": [],
   "source": [
    "\n",
    "# df1 = pd.read_excel('DATA1_SHOPEE.xlsx')\n",
    "# df2 = pd.read_excel('DATA2_SHOPEE.xlsx')\n",
    "# df3 = pd.read_excel('DATA3_SHOPEE.xlsx')\n",
    "\n",
    "# merge_df = pd.concat([df1, df2, df3], ignore_index=True)\n",
    "\n",
    "# merge_df.to_excel('merge_df.xlsx', index=False)"
   ]
  },
  {
   "cell_type": "code",
   "execution_count": 3,
   "metadata": {},
   "outputs": [],
   "source": [
    "# df = pd.read_excel('shopee_7mar_13mar.xlsx', index_col=0)\n",
    "df = pd.read_excel('shopee_1-9mei.xlsx', index_col=0)"
   ]
  },
  {
   "cell_type": "markdown",
   "metadata": {},
   "source": [
    "# Code"
   ]
  },
  {
   "cell_type": "code",
   "execution_count": 4,
   "metadata": {},
   "outputs": [],
   "source": [
    "# Drop kolom yang tidak diperlukan langsung pada df tanpa variabel baru\n",
    "df.drop(columns=[\n",
    "    # 'Status Pesanan',\n",
    "    'Alasan Pembatalan',\n",
    "    'Status Pembatalan/ Pengembalian',\n",
    "    'No. Resi',\n",
    "    'Opsi Pengiriman',\n",
    "    'Antar ke counter/ pick-up',\n",
    "    'Pesanan Harus Dikirimkan Sebelum (Menghindari keterlambatan)',\n",
    "    'Waktu Pengiriman Diatur',\n",
    "    'Waktu Pembayaran Dilakukan',\n",
    "    'Metode Pembayaran',\n",
    "    'SKU Induk',\n",
    "    'Nomor Referensi SKU',\n",
    "    'Nama Variasi',\n",
    "    'Returned quantity',\n",
    "    'Total Diskon',\n",
    "    'Berat Produk',\n",
    "    'Jumlah Produk di Pesan',\n",
    "    'Total Berat',\n",
    "    'Cashback Koin',\n",
    "    'Paket Diskon',\n",
    "    'Paket Diskon (Diskon dari Shopee)',\n",
    "    'Paket Diskon (Diskon dari Penjual)',\n",
    "    'Potongan Koin Shopee',\n",
    "    'Diskon Kartu Kredit',\n",
    "    'Ongkos Kirim Dibayar oleh Pembeli',\n",
    "    'Estimasi Potongan Biaya Pengiriman',\n",
    "    'Ongkos Kirim Pengembalian Barang',\n",
    "    'Total Pembayaran',\n",
    "    'Perkiraan Ongkos Kirim',\n",
    "    'Catatan dari Pembeli',\n",
    "    'Catatan',\n",
    "    'Nama Penerima',\n",
    "    'No. Telepon',\n",
    "    'Alamat Pengiriman',\n",
    "    'Waktu Pesanan Selesai'\n",
    "], inplace=True)\n"
   ]
  },
  {
   "cell_type": "code",
   "execution_count": 5,
   "metadata": {},
   "outputs": [],
   "source": [
    "df = df[df['Status Pesanan'] != 'Batal']"
   ]
  },
  {
   "cell_type": "code",
   "execution_count": 6,
   "metadata": {},
   "outputs": [],
   "source": [
    "df = df.drop(columns=['Status Pesanan'])"
   ]
  },
  {
   "cell_type": "code",
   "execution_count": 7,
   "metadata": {},
   "outputs": [],
   "source": [
    "df['Waktu Pesanan Dibuat'] = pd.to_datetime(df['Waktu Pesanan Dibuat']).dt.date"
   ]
  },
  {
   "cell_type": "code",
   "execution_count": 8,
   "metadata": {},
   "outputs": [],
   "source": [
    "def extract_variant(product_name):\n",
    "    match = re.search(r'\\b(Ares|Apollo|Athena|Divine Warriors|The Olympian Pair|Golden Wisdom)\\b', product_name, re.IGNORECASE)\n",
    "    return match.group(0) if match else None\n",
    "\n",
    "# Terapkan fungsi ke kolom 'Nama Produk'\n",
    "df['Nama Produk'] = df['Nama Produk'].apply(extract_variant)"
   ]
  },
  {
   "cell_type": "code",
   "execution_count": 9,
   "metadata": {},
   "outputs": [],
   "source": [
    "# Dictionary referensi koordinat provinsi di Indonesia\n",
    "provinsi_koordinat = {\n",
    "    'ACEH': (4.36855, 97.0253),\n",
    "    'SUMATERA UTARA': (2.1153547, 99.5450974),\n",
    "    'SUMATERA BARAT': (-0.7399397, 100.8000051),\n",
    "    'RIAU': (0.2933466, 101.7068294),\n",
    "    'JAMBI': (-1.6101232, 103.6131203),\n",
    "    'SUMATERA SELATAN': (-3.0977119, 104.9142684),\n",
    "    'BENGKULU': (-3.57785, 102.2655),\n",
    "    'LAMPUNG': (-4.5585849, 105.4068),\n",
    "    'KEPULAUAN BANGKA BELITUNG': (-2.7410513, 106.4405872),\n",
    "    'KEPULAUAN RIAU': (3.9456514, 108.1428669),\n",
    "    'DKI JAKARTA': (-6.2088, 106.8456),\n",
    "    'JAWA BARAT': (-6.9248, 107.6071),\n",
    "    'JAWA TENGAH': (-7.150975, 110.3499255),\n",
    "    'DI YOGYAKARTA': (-7.797068, 110.3705293),\n",
    "    'JAWA TIMUR': (-7.24917, 112.75083),\n",
    "    'BANTEN': (-6.1202, 106.1505),\n",
    "    'BALI': (-8.3405, 115.092),\n",
    "    'NUSA TENGGARA BARAT': (-8.65293340, 117.36164760),\n",
    "    'NUSA TENGGARA TIMUR': (-9.5018, 119.8256),\n",
    "    'KALIMANTAN BARAT': (-0.0263, 109.3333),\n",
    "    'KALIMANTAN TENGAH': (-1.6814878, 113.3823545),\n",
    "    'KALIMANTAN SELATAN': (-3.092641, 114.603416),\n",
    "    'KALIMANTAN TIMUR': (0.5247839, 116.9317887),\n",
    "    'KALIMANTAN UTARA': (3.0166, 116.3319),\n",
    "    'SULAWESI UTARA': (1.4538, 124.8917),\n",
    "    'SULAWESI TENGAH': (-0.8375, 121.6255),\n",
    "    'SULAWESI SELATAN': (-5.1476651, 119.4221),\n",
    "    'SULAWESI TENGGARA': (-4.1434, 122.1746),\n",
    "    'GORONTALO': (0.6371, 123.262),\n",
    "    'SULAWESI BARAT': (-2.9521, 119.3793),\n",
    "    'MALUKU': (-3.2385, 129.475),\n",
    "    'MALUKU UTARA': (1.570999, 127.5101),\n",
    "    'PAPUA': (-4.269928, 133.550003),\n",
    "    'PAPUA BARAT': (-3.3333, 132.75),\n",
    "    'PAPUA TENGAH': (-3.75, 137.0),\n",
    "    'PAPUA PEGUNUNGAN': (-4.75, 140.0),\n",
    "    'PAPUA SELATAN': (-6.75, 134.0),\n",
    "    'PAPUA BARAT DAYA': (-0.875, 131.25),\n",
    "    'NUSA TENGGARA BARAT (NTB)': (-8.652933, 116.5604),\n",
    "    'BANGKA BELITUNG': (-2.7410513, 106.4405872),\n",
    "    'KEPULAUAN BANGKA BELITUNG (BABEL)': (-2.7410513, 106.4405872)\n",
    "}\n",
    "\n",
    "# Tambahkan kolom Latitude dan Longitude berdasarkan Provinsi\n",
    "df['Latitude'] = df['Provinsi'].map(lambda x: provinsi_koordinat.get(x, (None, None))[0])\n",
    "df['Longitude'] = df['Provinsi'].map(lambda x: provinsi_koordinat.get(x, (None, None))[1])"
   ]
  },
  {
   "cell_type": "code",
   "execution_count": 10,
   "metadata": {},
   "outputs": [
    {
     "data": {
      "text/plain": [
       "No. Pesanan\n",
       "250502RNEBKWBE    309.0\n",
       "250503UKDAFY9Y    159.0\n",
       "250503UYEKM6H9    309.0\n",
       "2505052AKF1KJH    149.0\n",
       "2505052DX2BTBS    149.0\n",
       "Name: Total Harga Produk, dtype: float64"
      ]
     },
     "execution_count": 10,
     "metadata": {},
     "output_type": "execute_result"
    }
   ],
   "source": [
    "df['Total Harga Produk'].head()"
   ]
  },
  {
   "cell_type": "code",
   "execution_count": 11,
   "metadata": {},
   "outputs": [],
   "source": [
    "df['Marketplace'] = 'Shopee'\n",
    "# df['Total Harga Produk'] = df['Total Harga Produk'].str.replace('Rp', '').str.replace('.', '')\n",
    "# df['Total Harga Produk'] = df['Total Harga Produk'].astype(float)\n",
    "# df['Total Harga Produk'] = df.apply(\n",
    "#     lambda row: row['Harga Setelah Diskon'] * row['Jumlah']\n",
    "    \n",
    "#     if pd.isnull(row['Total Harga Produk']) \n",
    "#     else row ['Total Harga Produk'], axis=1)\n",
    "\n",
    "df['Total Harga Produk'] = df['Harga Setelah Diskon'] * df['Jumlah'] * 1000"
   ]
  },
  {
   "cell_type": "code",
   "execution_count": 12,
   "metadata": {},
   "outputs": [],
   "source": [
    "df['Jumlah'] = df['Jumlah'].astype(int)\n",
    "\n",
    "columns_to_multiply = [\n",
    "    'Harga Awal',\n",
    "    'Harga Setelah Diskon',\n",
    "    'Diskon Dari Penjual',\n",
    "    'Diskon Dari Shopee',\n",
    "    'Voucher Ditanggung Penjual',\n",
    "    'Voucher Ditanggung Shopee'\n",
    "]\n",
    "\n",
    "# Mengalikan setiap kolom dalam daftar dengan 1000\n",
    "df[columns_to_multiply] = df[columns_to_multiply].apply(lambda x: x * 1000)\n"
   ]
  },
  {
   "cell_type": "code",
   "execution_count": 13,
   "metadata": {},
   "outputs": [],
   "source": [
    "df2 = df.copy()"
   ]
  },
  {
   "cell_type": "code",
   "execution_count": 14,
   "metadata": {},
   "outputs": [],
   "source": [
    "start_date = df2['Waktu Pesanan Dibuat'].min()\n",
    "end_date = df2['Waktu Pesanan Dibuat'].max()\n",
    "all_dates = pd.date_range(start=start_date, end=end_date, freq='D')"
   ]
  },
  {
   "cell_type": "code",
   "execution_count": 15,
   "metadata": {},
   "outputs": [],
   "source": [
    "# Menentukan rentang tanggal dari dataset\n",
    "date_range = pd.date_range(start=df[\"Waktu Pesanan Dibuat\"].min(), \n",
    "                           end=df[\"Waktu Pesanan Dibuat\"].max(), \n",
    "                           freq='D')\n",
    "\n",
    "# Membuat DataFrame baru dengan rentang tanggal lengkap\n",
    "full_dates_df = pd.DataFrame({\"Waktu Pesanan Dibuat\": date_range})\n",
    "\n",
    "# Konversi kolom 'Waktu Pesanan Dibuat' di df menjadi datetime\n",
    "df[\"Waktu Pesanan Dibuat\"] = pd.to_datetime(df[\"Waktu Pesanan Dibuat\"])\n",
    "\n",
    "# Menggabungkan dengan dataset utama untuk memastikan setiap tanggal ada dalam data\n",
    "df_full = full_dates_df.merge(df, on=\"Waktu Pesanan Dibuat\", how=\"left\")\n",
    "\n",
    "# Mengisi nilai NaN dengan 0 untuk kolom jumlah produk yang terjual\n",
    "df_full[\"Jumlah\"] = df_full[\"Jumlah\"].fillna(0)\n",
    "df_full[\"Total Harga Produk\"] = df_full[\"Total Harga Produk\"].fillna(0)"
   ]
  },
  {
   "cell_type": "code",
   "execution_count": 16,
   "metadata": {},
   "outputs": [],
   "source": [
    "df_full['Waktu Pesanan Dibuat'] = pd.to_datetime(df_full['Waktu Pesanan Dibuat']).dt.date"
   ]
  },
  {
   "cell_type": "code",
   "execution_count": 17,
   "metadata": {},
   "outputs": [],
   "source": [
    "# Daftar varian parfum\n",
    "varian_parfum = [\"Ares\", \"Athena\", \"Apollo\", \"Divine Warriors\", \"The Olympian Pair \", \"Golden Wisdom\"]\n",
    "\n",
    "# Membuat DataFrame dengan kombinasi semua tanggal dan varian parfum\n",
    "full_dates_products = pd.MultiIndex.from_product(\n",
    "    [df_full[\"Waktu Pesanan Dibuat\"].unique(), varian_parfum], \n",
    "    names=[\"Waktu Pesanan Dibuat\", \"Nama Produk\"]\n",
    ").to_frame(index=False)\n",
    "\n",
    "# Menggabungkan dengan dataset utama untuk memastikan setiap tanggal memiliki semua varian parfum\n",
    "df_complete = full_dates_products.merge(df_full, on=[\"Waktu Pesanan Dibuat\", \"Nama Produk\"], how=\"left\")\n",
    "\n",
    "# Mengisi nilai NaN dengan 0 untuk kolom jumlah produk yang terjual\n",
    "fill_columns = [\"Jumlah\", \"Total Harga Produk\", \"Diskon Dari Penjual\", \"Diskon Dari Shopee\"]\n",
    "df_complete[fill_columns] = df_complete[fill_columns].fillna(0)"
   ]
  },
  {
   "cell_type": "code",
   "execution_count": 18,
   "metadata": {},
   "outputs": [],
   "source": [
    "# Mengisi nilai NaN dengan dummy values yang diberikan\n",
    "dummy_values = {\n",
    "    'Harga Awal': 0.0,\n",
    "    'Harga Setelah Diskon': 0.0,\n",
    "    'Jumlah': 0,\n",
    "    'Total Harga Produk': 0.0,\n",
    "    'Diskon Dari Penjual': 0.0,\n",
    "    'Diskon Dari Shopee': 0.0,\n",
    "    'Voucher Ditanggung Penjual': 0.0,\n",
    "    'Voucher Ditanggung Shopee': 0.0,\n",
    "    'Username (Pembeli)': 'dummy_user',\n",
    "    'Kota/Kabupaten': 'dummy_city',\n",
    "    'Provinsi': 'dummy_province',\n",
    "    'Latitude': 0.0,\n",
    "    'Longitude': 0.0,\n",
    "    'Marketplace': 'Shopee'\n",
    "}\n",
    "\n",
    "df_complete.fillna(dummy_values, inplace=True)\n"
   ]
  },
  {
   "cell_type": "code",
   "execution_count": 19,
   "metadata": {},
   "outputs": [],
   "source": [
    "df_complete.columns = ['Tanggal Order', 'Nama Produk', 'Harga Awal', 'Harga Setelah Diskon', 'Jumlah', 'Omzet', 'Diskon dari Seller', 'Diskon dari Platform', 'Voucher dari Seller', 'Voucher dari Platform', 'Username Buyer', 'Kota/Kabupaten', 'Provinsi', 'Latitude', 'Longitude', 'Channel']  "
   ]
  },
  {
   "cell_type": "code",
   "execution_count": 20,
   "metadata": {},
   "outputs": [],
   "source": [
    "df['Harga Awal'] = df['Harga Awal'] * 1000"
   ]
  },
  {
   "cell_type": "code",
   "execution_count": 21,
   "metadata": {},
   "outputs": [],
   "source": [
    "df_aggregated = df_complete.copy()\n",
    "\n",
    "df_complete[\"Tanggal Order\"] = pd.to_datetime(df_complete[\"Tanggal Order\"]).dt.date\n",
    "\n",
    "df_aggregated = df_complete.groupby([\"Tanggal Order\", \"Nama Produk\"])[\"Jumlah\"].sum().reset_index()\n",
    "\n",
    "date_product_pivot = df_aggregated.pivot(index=\"Tanggal Order\", columns=\"Nama Produk\", values=\"Jumlah\").fillna(0)\n",
    "\n",
    "date_product_pivot = date_product_pivot.reset_index()\n",
    "\n",
    "date_product_pivot['Tanggal Order'] = pd.to_datetime(date_product_pivot['Tanggal Order']).dt.date # Ambil tanggal saja\n",
    "# date_product_pivot['Marketplace'] = 'Shopee'\n",
    "\n",
    "# Convert the pivoted DataFrame back to long format with only two columns\n",
    "df_long_format = date_product_pivot.melt(id_vars=[\"Tanggal Order\"], var_name=\"Nama Produk\", value_name=\"Jumlah\")\n",
    "df_long_format['Marketplace'] = 'Shopee'\n",
    "# Sort the DataFrame by date in ascending order\n",
    "df_long_format = df_long_format.sort_values(by=\"Tanggal Order\")\n",
    "date_product_pivot['Marketplace'] = 'Shopee'\n",
    "\n",
    "# export_path = \"missing_date_filled.xlsx\"\n",
    "# df_fixed.to_excel(export_path, index=False)\n",
    "# df_long_format.to_excel(\"long_format_data.xlsx\", index=False)  "
   ]
  },
  {
   "cell_type": "markdown",
   "metadata": {},
   "source": [
    "# Save"
   ]
  },
  {
   "cell_type": "code",
   "execution_count": 22,
   "metadata": {},
   "outputs": [],
   "source": [
    "date_product_pivot.to_excel(\"shopee_rekap_1-9mei.xlsx\", index=False)\n",
    "\n",
    "df_complete.to_excel('shopee_cleaned_1-9mei.xlsx', index=False)\n"
   ]
  }
 ],
 "metadata": {
  "kernelspec": {
   "display_name": "py310",
   "language": "python",
   "name": "python3"
  },
  "language_info": {
   "codemirror_mode": {
    "name": "ipython",
    "version": 3
   },
   "file_extension": ".py",
   "mimetype": "text/x-python",
   "name": "python",
   "nbconvert_exporter": "python",
   "pygments_lexer": "ipython3",
   "version": "3.10.16"
  }
 },
 "nbformat": 4,
 "nbformat_minor": 2
}
